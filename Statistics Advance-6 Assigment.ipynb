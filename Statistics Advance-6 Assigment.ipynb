{
 "cells": [
  {
   "cell_type": "code",
   "execution_count": 1,
   "id": "1512c293-93c7-429b-a037-b8fafbdee0e9",
   "metadata": {},
   "outputs": [],
   "source": [
    "# Jai Maa Saraswati :"
   ]
  },
  {
   "cell_type": "markdown",
   "id": "3fddb306-33a3-40c2-a13e-cddda45eedbb",
   "metadata": {},
   "source": [
    "Q1. Explain the assumptions required to use ANOVA and provide examples of violations that could impact\n",
    "the validity of the results."
   ]
  },
  {
   "cell_type": "markdown",
   "id": "df1a74df-5f73-47b6-bd1c-3e1e4d435f7a",
   "metadata": {},
   "source": [
    "# Assumptions of ANOVA :-\n",
    "\n",
    "* Independence\n",
    "  * Example of violation: Conducting ANOVA on time-series data where each data point is dependent on the previous one          (autocorrelation).\n",
    "  \n",
    "* Normality\n",
    "  * Example of violation: Conducting ANOVA on data that is heavily skewed or has extreme outliers that distort the               distribution.\n",
    "  \n",
    "* Homogeneity of Variance\n",
    "  * Example of violation: Conducting ANOVA on data where one group has significantly larger variance than others, leading to     unequal spread of residuals.\n",
    "  \n",
    "# Exmaple of Violations And Their Impact :\n",
    "\n",
    "* Non-independence: If observations are not independent (e.g., repeated measures on the same subjects over time), the         assumption of independent observations is violated. This can lead to underestimation of standard errors, inflated Type I     error rates, and biased parameter estimates.\n",
    "\n",
    "* Non-normality: Violations occur when the residuals do not follow a normal distribution. This can lead to incorrect           confidence intervals, inaccurate p-values, and biased estimates of means. In extreme cases, ANOVA may not be appropriate,   and transformation of data or using non-parametric tests may be necessary.\n",
    "\n",
    "* Heterogeneity of Variance: When the assumption of homogeneity of variance is violated (i.e., the variances of the           residuals are not equal across groups), the F-test in ANOVA becomes unreliable. This can result in incorrect conclusions     about group differences, as well as incorrect p-values and confidence intervals."
   ]
  },
  {
   "cell_type": "markdown",
   "id": "c0d93a70-d1a5-487f-b07a-944b0cfe3141",
   "metadata": {},
   "source": [
    "Q2. What are the three types of ANOVA, and in what situations would each be used?"
   ]
  },
  {
   "cell_type": "markdown",
   "id": "b97c53e1-362f-4e68-845d-641b318a0992",
   "metadata": {},
   "source": [
    "# TYPES OF ANOVA :-\n",
    "\n",
    "* ONE WAY - ANOVA :\n",
    "* Useage => One Way ANOVA is used when we have one Independent Variable(Factor) with Three or More levels(Groups) and we\n",
    "    Want to Determine the Significance Difference of Mean Among theses Groups .\n",
    "    \n",
    "* Example =>(i) Testing whether there is a difference in test scores among students from three different schools.\n",
    "              (ii) Analyzing the effect of different doses of a drug (low, medium, high) on a medical condition.\n",
    "              (iii) Comparing the average sales performance across multiple regions.\n",
    "              \n",
    "* TWO WAY - ANOVA :\n",
    "* useage => Two Way of ANOVA is used when we have two Independent variable(Factors) And we Examine what is the Effect \n",
    "     When we Interact With the Dependent Variable .\n",
    "     \n",
    "* Example Situations:(i) Evaluating the effects of both gender and treatment (factor A: gender, factor B: treatment) on                               recovery time after surgery.\n",
    "                        (ii) Assessing the impact of temperature (factor A: low, medium, high) and humidity (factor B: low,                              medium, high) on plant growth.\n",
    "                        (iii) Studying the effects of education level (factor A: high school, college, graduate) and income                               level (factor B: low, medium, high) on job satisfaction.\n",
    "                        \n",
    "* FACTORIAL ANOVA :\n",
    "\n",
    "* useage => Factorial ANOVA is like Two Way-ANOVA because they are used when there are multiple Independent\n",
    "    Variable(FACTOR) with Multiple Levels Allowing us For More Complex Interaction Between Factors .\n",
    "    \n",
    "* Example Situations: (i) Studying the effects of different types of exercise (factor A: aerobic, strength training,                                  flexibility) and different diets (factor B: low carb, balanced, high protein) on weight loss.\n",
    "                      (ii) Analyzing the effects of age group (factor A: young, middle-aged, elderly) and gender (factor B:                             male, female) on cognitive function.  "
   ]
  },
  {
   "cell_type": "markdown",
   "id": "ca5a251e-348c-4fb6-8401-0656d31be7b5",
   "metadata": {},
   "source": [
    "Q3. What is the partitioning of variance in ANOVA, and why is it important to understand this concept?"
   ]
  },
  {
   "cell_type": "markdown",
   "id": "d1d1a51e-7f67-4a6e-bd00-7cd32c4ae820",
   "metadata": {},
   "source": [
    "# PARTITIONING OF VARIANCE IN ANOVA :-\n",
    "\n",
    "* Partitioning of variance in ANOVA is the Process in which Dividing the Total Obseved Variance into the Different Component\n",
    "  That Can Be Attributed into the Different Source or Factors .\n",
    "  \n",
    "* Total Variance (Total Sum of Squares, SST):\n",
    "  \n",
    "  SST represents the total variability or dispersion in the data, regardless of any specific factors or treatments. It is     calculated as the sum of squared deviations of each data point from the overall mean.  \n",
    "  \n",
    "* Between-Group Variance (Between-Group Sum of Squares, SSB):\n",
    "\n",
    "  SSB captures the variability among different groups or levels of a categorical variable (factor). It measures how much the   group means differ from the overall mean of all observations.\n",
    "  \n",
    "* Within-Group Variance (Within-Group Sum of Squares, SSW):\n",
    "\n",
    "  SSW represents the variability within each group or treatment level. It measures how much individual data points deviate     from their respective group means.\n",
    "  \n",
    "# Importance of Understanding Partitioning of Variance:-\n",
    "\n",
    "* Identifying Sources of Variation: By partitioning variance, ANOVA helps to identify which factors or variables               significantly contribute to the variation observed in the data. This is crucial in experimental design and hypothesis       testing to understand what factors are influencing the outcome.\n",
    "\n",
    "* Quantifying Effects: It quantifies the relative importance of different sources of variation. For instance, SSB quantifies   how much of the total variability is due to differences between groups, which is essential in assessing the effectiveness   of treatments or interventions.\n",
    "\n",
    "* Interpreting Results: Knowing the partitioning helps in interpreting the results correctly. For example, a large SSB         relative to SSW suggests that the factor being tested (e.g., different treatments) has a significant effect on the outcome   variable.\n",
    "\n",
    "* Improving Experimental Design: Insight into variance components aids in designing future experiments. It guides decisions   on factors to control or manipulate to maximize the sensitivity and reliability of experimental results."
   ]
  },
  {
   "cell_type": "markdown",
   "id": "b58b0cd9-7452-489c-8f10-ab226faf8446",
   "metadata": {},
   "source": [
    "Q4. How would you calculate the total sum of squares (SST), explained sum of squares (SSE), and residual\n",
    "sum of squares (SSR) in a one-way ANOVA using Python?"
   ]
  },
  {
   "cell_type": "code",
   "execution_count": 5,
   "id": "781f868e-584c-477e-8b27-8fa0b41f6947",
   "metadata": {},
   "outputs": [
    {
     "name": "stdout",
     "output_type": "stream",
     "text": [
      "Total Sum of Squares (SST): 57.5\n",
      "Explained Sum of Squares (SSE): 49.000000000000014\n",
      "Residual Sum of Squares (SSR): 8.5\n",
      "\n",
      "Total Sum of Squares (SST) from ANOVA: 49.00000000000003\n",
      "Explained Sum of Squares (SSE) from ANOVA: 8.5\n",
      "Residual Sum of Squares (SSR) from ANOVA: 40.50000000000003\n"
     ]
    }
   ],
   "source": [
    "import numpy as np\n",
    "import pandas as pd\n",
    "import statsmodels.api as sm\n",
    "from statsmodels.formula.api import ols\n",
    "\n",
    "# Example data: Suppose we have a DataFrame 'df' with 'group' and 'value' columns\n",
    "# Replace this with actual data setup\n",
    "\n",
    "data = {\n",
    "     \n",
    "    'group' : ['A','A','B','B','C','C'],\n",
    "    'value' :  [10, 12, 15, 18, 9, 11]\n",
    "}\n",
    "\n",
    "df = pd.DataFrame(data)\n",
    "\n",
    "# STEP 1 : Fit the One-Way of ANOVA Model:\n",
    "\n",
    "model = ols('value ~ group' , data=df).fit()\n",
    "\n",
    "# STEP 2 : Calculate the Total sum of Squares(SST) :\n",
    "# SST = sum((y_i - y_mean)^2)\n",
    "y_mean = df['value'].mean()\n",
    "df['y_diff_sq'] = (df['value'] - y_mean) ** 2\n",
    "SST = df['y_diff_sq'].sum()\n",
    "\n",
    "# STEP 3 : Calculate the Explained sum of Squares(SSE):\n",
    "# SSE = sum((y_hat_i - y_mean)^2)\n",
    "# where y_hat_i is the predicted value from the ANOVA model\n",
    "df['y_hat'] = model.predict(df)\n",
    "df['y_hat_diff_sq'] = (df['y_hat'] - y_mean ) **2\n",
    "SSE = df['y_hat_diff_sq'].sum()\n",
    "\n",
    "# Calculate the Residual sum of Squares(SSR):\n",
    "# SSR = sum((y_i - y_hat_i)**2)\n",
    "df['residual_sq'] = (df['value'] - df['y_hat']) ** 2\n",
    "SSR = df['residual_sq'].sum()\n",
    "\n",
    "# Print the results\n",
    "print(f\"Total Sum of Squares (SST): {SST}\")\n",
    "print(f\"Explained Sum of Squares (SSE): {SSE}\")\n",
    "print(f\"Residual Sum of Squares (SSR): {SSR}\")\n",
    "\n",
    "# Extracting the SSE , SSR , SST From the Anova Table \n",
    "anova_table = sm.stats.anova_lm(model , type =1 )\n",
    "SST_from_anova = anova_table['sum_sq']['group']\n",
    "SSE_from_anova = anova_table['sum_sq']['Residual']\n",
    "SSR_from_anova = SST_from_anova - SSE_from_anova  # SSR calculated as SST - SSE\n",
    "\n",
    "print(f\"\\nTotal Sum of Squares (SST) from ANOVA: {SST_from_anova}\")\n",
    "print(f\"Explained Sum of Squares (SSE) from ANOVA: {SSE_from_anova}\")\n",
    "print(f\"Residual Sum of Squares (SSR) from ANOVA: {SSR_from_anova}\")"
   ]
  },
  {
   "cell_type": "markdown",
   "id": "53699d8c-c81e-4837-9f0a-d2dcf6c84ba1",
   "metadata": {},
   "source": [
    "Q5. In a two-way ANOVA, how would you calculate the main effects and interaction effects using Python?"
   ]
  },
  {
   "cell_type": "code",
   "execution_count": 9,
   "id": "22123c06-608d-42d5-9b47-5ed94a589591",
   "metadata": {},
   "outputs": [
    {
     "name": "stdout",
     "output_type": "stream",
     "text": [
      "Requirement already satisfied: statsmodels in /opt/conda/lib/python3.10/site-packages (0.13.5)\n",
      "Requirement already satisfied: pandas in /opt/conda/lib/python3.10/site-packages (1.5.2)\n",
      "Requirement already satisfied: patsy>=0.5.2 in /opt/conda/lib/python3.10/site-packages (from statsmodels) (0.5.3)\n",
      "Requirement already satisfied: scipy>=1.3 in /opt/conda/lib/python3.10/site-packages (from statsmodels) (1.9.3)\n",
      "Requirement already satisfied: numpy>=1.17 in /opt/conda/lib/python3.10/site-packages (from statsmodels) (1.23.5)\n",
      "Requirement already satisfied: packaging>=21.3 in /opt/conda/lib/python3.10/site-packages (from statsmodels) (22.0)\n",
      "Requirement already satisfied: python-dateutil>=2.8.1 in /opt/conda/lib/python3.10/site-packages (from pandas) (2.8.2)\n",
      "Requirement already satisfied: pytz>=2020.1 in /opt/conda/lib/python3.10/site-packages (from pandas) (2022.6)\n",
      "Requirement already satisfied: six in /opt/conda/lib/python3.10/site-packages (from patsy>=0.5.2->statsmodels) (1.16.0)\n",
      "                    sum_sq   df          F   PR(>F)\n",
      "C(factor1)            32.0  1.0  21.333333  0.00989\n",
      "C(factor2)             2.0  1.0   1.333333  0.31250\n",
      "C(factor1):factor2     4.0  2.0   1.333333  0.36000\n",
      "Residual               6.0  4.0        NaN      NaN\n"
     ]
    }
   ],
   "source": [
    "!pip install statsmodels pandas\n",
    "import pandas as pd \n",
    "import statsmodels.api as sm\n",
    "from statsmodels.formula.api import ols\n",
    "\n",
    "# Example Data :\n",
    "data = {\n",
    "   'factor1' : ['A', 'A', 'B', 'B', 'A', 'A', 'B', 'B'],#represents the levels of the first factor (categorical variable 1)\n",
    "   'factor2' : ['X', 'Y', 'X', 'Y', 'X', 'Y', 'X', 'Y'],# represents the levels of the second factor (categorical variable 2) \n",
    "   'response' : [5, 3, 7, 6, 4, 2, 8, 9] # represents the dependent variable.\n",
    "}\n",
    "\n",
    "df = pd.DataFrame(data)\n",
    "\n",
    "# Fit the ANOVA Model :\n",
    "formula = 'response ~ C(factor1) + C(factor2) + C(factor1) : (factor2)'\n",
    "model = ols(formula,data=df).fit()\n",
    "anova_table = sm.stats.anova_lm(model , typ=2)\n",
    "\n",
    "# Print the ANOVA Table ;\n",
    "print(anova_table)"
   ]
  },
  {
   "cell_type": "markdown",
   "id": "c3764e98-1bb5-42db-8ea6-2850deccb846",
   "metadata": {},
   "source": [
    "Q6. Suppose you conducted a one-way ANOVA and obtained an F-statistic of 5.23 and a p-value of 0.02.\n",
    "What can you conclude about the differences between the groups, and how would you interpret these\n",
    "results?"
   ]
  },
  {
   "cell_type": "markdown",
   "id": "9f7e0500-4366-4fe2-80a1-cf70dd38feea",
   "metadata": {},
   "source": [
    "# F-STATISTICS \n",
    "\n",
    "* The F-statistics measure the Ratio variance between Groups(Due to Treatment Effect) to the variance Within Groups(Due to\n",
    "  the Random Error). A Larger F- Effect Suggest that the means of the Groups are More Different from each other relative to\n",
    "  Varibility within each Group . \n",
    "  \n",
    "* In this Case, the F-Statistics is 5.23 This Indicates that there is some Degree of Difference Between the Group means .\n",
    "\n",
    "# P-VALUE :\n",
    "\n",
    "* The p-value is Associated with F-Statistics is used to Determine the Statistical Significance of the Observed Difference.\n",
    "  It indicates the Probablity of observing such an Extreme(or more Extreme) result uder the NullHypothesis(which Assume the\n",
    "  there is no difference between group mean).\n",
    "  \n",
    "* the obtained p-value is 0.02 this suggest that if there were no difference between the Groups(Null Hypothesis is True) .\n",
    "\n",
    "# CONCLUSION AND INTERPRETATION :\n",
    "\n",
    "* Statistical Significance : With a p-value of 0.02, which is less than the commonly chosen significance level of 0.05, we     conclude that there is sufficient evidence to reject the null hypothesis.\n",
    "\n",
    "* Difference Between groups : The significant p-value (less than 0.05) indicates that there are likely genuine differences     between at least some of the group means in the population . \n",
    "\n",
    "* Practical Significance : While statistical significance indicates that there are differences, it does not quantify the       size or importance of these differences. Further analyses or comparisons may be needed to assess the practical               significance of the findings . \n",
    "\n",
    "* Direction OF Difference : The ANOVA itself does not tell you which specific groups differ from each other. Post-hoc tests   (such as Tukey's HSD test, Scheffe's test, etc.) can be performed to identify which pairs of groups show significant         differences.\n",
    "\n"
   ]
  },
  {
   "cell_type": "markdown",
   "id": "1a86dd74-5c95-47b0-b7f7-64cdf5184273",
   "metadata": {},
   "source": [
    "Q7. In a repeated measures ANOVA, how would you handle missing data, and what are the potential\n",
    "consequences of using different methods to handle missing data?"
   ]
  },
  {
   "cell_type": "markdown",
   "id": "b7840c60-0608-416d-821b-73d3f99f5471",
   "metadata": {},
   "source": [
    "# 1. INDENTIFYIGN MISSING DATA :\n",
    "\n",
    "* Missing Completely at Random (MCAR): Data is missing randomly across all observations, and the probability of missingness   is unrelated to any observed or unobserved variables.\n",
    "* Missing at Random (MAR): Data is missing randomly conditional on other observed variables but not on the variable itself.\n",
    "* Missing Not at Random (MNAR): The probability of missingness is related to the variable being studied.\n",
    "\n",
    "# 2. Methods to Handle Missing Data :\n",
    "\n",
    "* a. Complete Case Analysis (Listwise Deletion)\n",
    "     Approach: Exclude any cases with missing data on any of the variables involved in the analysis.\n",
    "     \n",
    "* b. Pairwise Deletion\n",
    "     Approach: Use all available data for each pair of variables in the analysis, excluding cases only where data is missing      for specific variables being analyzed.\n",
    "     \n",
    "* c.  Mean Imputation\n",
    "      Approach: Replace missing values with the mean of the observed values for that variable.\n",
    "\n",
    "* d.  Multiple Imputation\n",
    "      Approach: Generate several plausible values for each missing data point, based on observed data and assumptions about       the distribution of missing data.\n",
    "      \n",
    "* e . Maximum Likelihood Estimation\n",
    "      Approach: Incorporate missing data directly into the estimation process using statistical models that account for           missingness.      \n",
    "      \n",
    "# 3. Choosing the Right Method\n",
    "\n",
    "* Considerations: The choice of method should be guided by the nature and extent of missing data, the missing data mechanism   (MCAR, MAR, MNAR), sample size, and the specific analysis being performed.\n",
    "\n",
    "* Best Practices: Multiple imputation or maximum likelihood estimation are generally preferred when the assumption of         missing data mechanisms can be reasonably justified and computational resources allow."
   ]
  },
  {
   "cell_type": "markdown",
   "id": "7a7272bd-e07d-48f3-977d-e54b7ff30916",
   "metadata": {},
   "source": [
    "Q8. What are some common post-hoc tests used after ANOVA, and when would you use each one? Provide\n",
    "an example of a situation where a post-hoc test might be necessary."
   ]
  },
  {
   "cell_type": "markdown",
   "id": "d384d42f-7669-483f-bc8c-9f2f1f5943f3",
   "metadata": {},
   "source": [
    "* After Conducating ANOVA and Determining there is a Significance difference Among the Group Mean , Post-Hoc test are used \n",
    "  to Determine the which Specific Group differ From Each other .\n",
    "  \n",
    "# Tukey's Honestly Significance Difference(HSD) :\n",
    "\n",
    "* When to Use : Tukey HSD test is used when we have Sample Size and the Equal Variance Across Group(homogeneity of variances   assumption is met)\n",
    "* Example: In a study comparing the effectiveness of three different therapies for depression, after conducting an ANOVA and   finding a significant difference among the therapies, Tukey's HSD can be used to identify which therapies show s             significantly different means.\n",
    "\n",
    "# BONFERRONI CORRECTION :\n",
    "\n",
    "* When to use: Bonferroni correction is used when you want to control the family-wise error rate (the probability of making   at least one Type I error across all comparisons).\n",
    "* Example: In a clinical trial with four different dosage levels of a drug, if the ANOVA shows a significant difference in     treatment effectiveness, Bonferroni correction can be applied to compare each pair of dosage levels while controlling for   the overall Type I error rate.\n",
    "\n",
    "# SIDAK CORRECTION :\n",
    "\n",
    "* When to use: Sidak correction is similar to Bonferroni correction but is less conservative, making it appropriate when       conducting multiple comparisons.\n",
    "* Example: In an educational study comparing the performance of students in different teaching methods, if ANOVA indicates     significant differences, Sidak correction can be used to compare specific pairs of teaching methods to see which ones lead   to significantly different outcomes.\n",
    "\n",
    "# DUCAN'S NEW-MULTIPLE RANGE TEST :\n",
    "\n",
    "* When to Use : Ducan's New multiple range test is used when we have unequal of sample Size and unequal of Variance Across\n",
    "  Group :\n",
    "* Example: In an agricultural study comparing the yields of several different fertilizers, ANOVA may reveal significant       differences in yield. Duncan's test can then be applied to determine which specific pairs of fertilizers lead to             significantly different yields.  \n",
    "\n",
    "# Scheffé's method \n",
    "\n",
    "* When to use: Scheffé's method is very conservative and is used when assumptions of homogeneity of variances and equal       sample sizes are not met.\n",
    "* Example: In a social science study comparing the effectiveness of different intervention programs across schools, if ANOVA   indicates significant differences, Scheffé's method can be used to conduct all pairwise comparisons while controlling for   Type I error rate.\n",
    "\n",
    "\n",
    "# EXAMPLE SCENARIO :\n",
    "\n",
    "* Let's say a researcher conducts an experiment to determine whether different types of exercise (aerobic, strength           training, and flexibility) have different effects on cardiovascular fitness (measured by VO2 max). The researcher collects   data from three groups of participants who undergo each type of exercise program for 12 weeks. After conducting an ANOVA     on the VO2 max scores post-intervention, the researcher finds a significant overall effect (p < 0.05).\n",
    "\n",
    "* At this point, a post-hoc test is necessary to determine which specific exercise types lead to significantly different VO2   max scores. Here, the researcher might choose Tukey's HSD test if the assumptions of equal variances and equal sample       sizes are met. If the assumptions are not met, another appropriate post-hoc test such as Bonferroni correction, Sidak       correction, Duncan's test, or Scheffé's method would be selected based on the specific characteristics of the data (e.g.,   sample sizes, variance homogeneity).\n",
    "\n",
    "\n",
    "\n"
   ]
  },
  {
   "cell_type": "markdown",
   "id": "647a3e46-63b7-4534-ad81-755dee344c65",
   "metadata": {},
   "source": [
    "Q9. A researcher wants to compare the mean weight loss of three diets: A, B, and C. They collect data from\n",
    "50 participants who were randomly assigned to one of the diets. Conduct a one-way ANOVA using Python\n",
    "to determine if there are any significant differences between the mean weight loss of the three diets.\n",
    "Report the F-statistic and p-value, and interpret the results.\n",
    "\n"
   ]
  },
  {
   "cell_type": "code",
   "execution_count": 4,
   "id": "aede948d-5ab7-488a-ba63-b6861f86d0ee",
   "metadata": {},
   "outputs": [
    {
     "name": "stdout",
     "output_type": "stream",
     "text": [
      "F-Statistics:22.4963\n",
      "P-Value:0.0001\n"
     ]
    }
   ],
   "source": [
    "import numpy as np\n",
    "from scipy.stats import f_oneway\n",
    "\n",
    "# Data for Each Diet Group \n",
    "diet_A = np.array([3.2, 2.7, 4.1, 3.4, 2.8])\n",
    "diet_B = np.array([1.9, 2.4, 2.8, 2.5, 2.1])\n",
    "diet_C = np.array([4.5, 3.7, 4.1, 5.0, 4.4])\n",
    "\n",
    "# Perform the One-Way ANOVA :\n",
    "f_statistics , p_value = f_oneway(diet_A , diet_B , diet_C)\n",
    "\n",
    "# Print the Result :\n",
    "print(f\"F-Statistics:{f_statistics:.4f}\")\n",
    "print(f\"P-Value:{p_value:.4f}\")\n",
    "\n",
    "\n",
    "# Interpretation of Result :\n",
    "\n",
    "# F-Statistics => This value Measure the Ratio of Variation Between Groups to Variation within Groups . It Qunatifies the\n",
    "# Whether the Means of Diet Groups are Significantly Different .\n",
    "\n",
    "# P-Value => this p-value Indicates the Signifinace of the Observed Difference . A small P-value(Typically Less than 0.05)\n",
    "# Suggest that the at Least one Pair of Diet Means is Significantly Different from Each Other .\n"
   ]
  },
  {
   "cell_type": "markdown",
   "id": "4c06df4c-789b-4c3c-a9ba-a54517fb0f9a",
   "metadata": {},
   "source": [
    "Q10. A company wants to know if there are any significant differences in the average time it takes to\n",
    "complete a task using three different software programs: Program A, Program B, and Program C. They\n",
    "randomly assign 30 employees to one of the programs and record the time it takes each employee to\n",
    "complete the task. Conduct a two-way ANOVA using Python to determine if there are any main effects or\n",
    "interaction effects between the software programs and employee experience level (novice vs.\n",
    "experienced). Report the F-statistics and p-values, and interpret the results."
   ]
  },
  {
   "cell_type": "code",
   "execution_count": null,
   "id": "b5cf6a45-f993-45df-b3a4-5669290f716d",
   "metadata": {},
   "outputs": [],
   "source": [
    "import pandas as pd\n",
    "import statsmodels.api as sm\n",
    "from statsmodels.formula.api import ols\n",
    "import numpy as np\n",
    "\n",
    "# Example Data :\n",
    "data = {\n",
    "    'Software' :  np.array(['A', 'B', 'C']*20 ), # 20 Observation per Software \n",
    "    'Experience' : np.array(['Novice', 'Experienced']*30), # Example: 30 novice and 30 experienced\n",
    "    'Time': np.array([10.2, 11.1, 9.8, 12.5, 10.9, 11.8, 9.5, 10.3, 10.7, 12.0, 11.5, 11.2, 9.3,\n",
    "                      10.0, 9.7, 11.6, 10.8, 11.4, 9.9, 11.1,11.4, 11.2, 12.1, 10.6, 12.3, 9.7,\n",
    "                      10.5, 10.9, 12.2, 11.7,13.2, 12.8, 13.5, 12.4, 13.0, 12.9, 12.1, 13.4, 13.3,\n",
    "                      12.7, 12.5, 12.6, 12.3, 13.1, 12.0, 13.6, 12.2, 13.8, 12.6])\n",
    "}\n",
    "\n",
    "# Convert the Data into the DataFrame :\n",
    "df = pd.DataFrame(data)\n",
    "\n",
    "# Perfrom the Two-Way of ANOVA Test :\n",
    "model = ols('Time ~ C(Software) + C(Experience) + C(Software):C(Experience',data = df).fit()\n",
    "anova_table = sm.stats.anova_lm(model,typ=2)\n",
    "\n",
    "# Print the ANOVA Table\n",
    "print(anova_table)"
   ]
  },
  {
   "cell_type": "markdown",
   "id": "21aacef4-f7a3-4ec0-a2ed-5417b9cbd15b",
   "metadata": {},
   "source": [
    "Q11. An educational researcher is interested in whether a new teaching method improves student test\n",
    "scores. They randomly assign 100 students to either the control group (traditional teaching method) or the\n",
    "experimental group (new teaching method) and administer a test at the end of the semester. Conduct a\n",
    "two-sample t-test using Python to determine if there are any significant differences in test scores\n",
    "between the two groups. If the results are significant, follow up with a post-hoc test to determine which\n",
    "group(s) differ significantly from each other."
   ]
  },
  {
   "cell_type": "code",
   "execution_count": 16,
   "id": "359d2fbc-e488-4c9b-a102-c1da65fa723e",
   "metadata": {},
   "outputs": [
    {
     "name": "stdout",
     "output_type": "stream",
     "text": [
      "T-Statistics :-1.1921\n",
      "P-Value : 0.2674\n"
     ]
    }
   ],
   "source": [
    "import numpy as np\n",
    "from scipy.stats import ttest_ind\n",
    "\n",
    "# Generate the Example Data :\n",
    "np.random.seed(42) # For Reproducibilty \n",
    "control_score = np.random.normal(loc=75,scale=5,size=5) # Control Group Score\n",
    "experimental_score = np.random.normal(loc=78,scale=5,size=5) # Experimental Group Score\n",
    "\n",
    "# Perfrom The Two-Sample T-test :\n",
    "t_statistics , p_value = ttest_ind(control_score , experimental_score)\n",
    "\n",
    "# Print the Result :\n",
    "print(f\"T-Statistics :{t_statistics:.4f}\")\n",
    "print(f\"P-Value : {p_value:.4f}\")"
   ]
  },
  {
   "cell_type": "markdown",
   "id": "692fc413-a4de-4121-af70-97c55e10a38a",
   "metadata": {},
   "source": [
    "# T-Statistics :\n",
    "\n",
    "* T-statistic: This value indicates how large the differences are relative to the variation in the data. A larger absolute     value indicates a larger difference between the means of the two groups.\n",
    "\n",
    "* P-value: This value indicates the probability of observing such an extreme difference (or more extreme) under the null       hypothesis that the two groups have equal means. A small p-value (typically less than 0.05) suggests that the difference     in means between the control and experimental groups is statistically significant."
   ]
  },
  {
   "cell_type": "markdown",
   "id": "f7f43b46-ca27-4487-8a6a-40598479c8cc",
   "metadata": {},
   "source": [
    "# Step 2: Post-Hoc Test (if significant) :-\n",
    "\n",
    "* If the results from the two-sample t-test are significant (i.e., p-value < 0.05), indicating that there is a significant     difference in test scores between the two groups, you can proceed with a post-hoc test to determine which group(s) differ   significantly from each other.\n",
    "\n",
    "* Since we have only two groups (control and experimental), a common post-hoc test to use is simply comparing the means and   providing descriptive statistics such as means, standard deviations, and confidence intervals. We can also visualize the     data using box plots or histograms to further explore the differences between the groups."
   ]
  },
  {
   "cell_type": "code",
   "execution_count": null,
   "id": "421e375f-71eb-451d-b512-e643ced459b9",
   "metadata": {},
   "outputs": [],
   "source": [
    "import seaborn as sns\n",
    "import matplotlib.pyplot as plt\n",
    "\n",
    "# Calculate the Mean & the Standard Deviation :\n",
    "control_mean = np.mean(control_score)\n",
    "experimental_mean = np.mean(experimental_score)\n",
    "control_std = np.std(control_score)\n",
    "experimental_std = np.std(experimental_score)\n",
    "\n",
    "# Print the Mean & Standard Deviation :\n",
    "print(f\"Control Group Mean :{control_mean:.2f} ,Std = {control_std:.2f}\")\n",
    "print(f\"Experimental Group Mean :{experimental_mean:2.f},Std = {experimental_std}\")\n",
    "\n",
    "# Plot Box-Plot for Comparison\n",
    "sns.boxplot(x=['Control' , 'Experimental'],y=[control_score,experimental_score])\n",
    "plt.xlabel('Group')\n",
    "plt.ylabel('Experiment')\n",
    "plt.title(\"Comparison of Test Score Between Control & Experiment Group\")\n",
    "plt.show()"
   ]
  },
  {
   "cell_type": "markdown",
   "id": "787e74bc-b72e-4035-a732-ffe406b322c6",
   "metadata": {},
   "source": [
    "Q12. A researcher wants to know if there are any significant differences in the average daily sales of three\n",
    "retail stores: Store A, Store B, and Store C. They randomly select 30 days and record the sales for each store\n",
    "on those days. Conduct a repeated measures ANOVA using Python to determine if there are any\n",
    "significant differences in sales between the three stores. If the results are significant, follow up with a post-hoc test to determine which store(s) differ significantly from each other."
   ]
  },
  {
   "cell_type": "code",
   "execution_count": null,
   "id": "67cff5a9-871b-4678-bf9b-c4def157c34a",
   "metadata": {},
   "outputs": [],
   "source": [
    "import pandas as pd\n",
    "import numpy as np\n",
    "import statsmodels.api as sm\n",
    "from statsmodels.formula.api import ols \n",
    "\n",
    "# Example Data :\n",
    "np.random.seed(42) # For Reproducibilty\n",
    "data = {\n",
    "\n",
    "    'Day' : np.tile(np.arange(1,31),3), # 30 Days Repeated for Each Store :\n",
    "    'Store' : np.repeat(['A','B','C'],30), # Store Label Repeated for Each Days \n",
    "    'Sales' : np.random.normal(loc=[100,110,95],scale=10,size=90) # Example Sale Data \n",
    "}\n",
    "\n",
    "# Covert into the DataFrame :\n",
    "df = pd.DataFrame(data)\n",
    "\n",
    "# Perfrom Repeated Measures ANOVA :\n",
    "model = ols('Sales ~ C(Store) + C(Day)',data = df).fit()\n",
    "anova_table = sm.stats.anova_lm(model , typ=2)\n",
    "\n",
    "# Print the ANOVA Table \n",
    "print(anova_table)"
   ]
  },
  {
   "cell_type": "markdown",
   "id": "50ad4eab-73b9-4664-8b4f-26c4fdf004e1",
   "metadata": {},
   "source": [
    "# Interpretation of Repeated Measures ANOVA Results :-\n",
    "\n",
    "* The ANOVA table (anova_table) will provide F-statistics, p-values, and other relevant statistics for the main effects of     Store, Day, and their interaction.\n",
    "\n",
    "* Look at the p-values to determine if there are significant differences in daily sales between the three stores (Store       factor)."
   ]
  },
  {
   "cell_type": "markdown",
   "id": "1dd4dcb7-ef5c-40ff-9be8-65cc70c7e3d5",
   "metadata": {},
   "source": [
    "# Step 2: Post-Hoc Test (if significant) :"
   ]
  },
  {
   "cell_type": "code",
   "execution_count": null,
   "id": "3d17bd05-4189-40dd-9c27-70fc97338398",
   "metadata": {},
   "outputs": [],
   "source": [
    "from statsmodels.stats.multicom import pairwise_tukeyhsd\n",
    "\n",
    "# Perform the Tukey's HSD Post-Hoc Test :\n",
    "tukey_results = pairwise_tukeyhsd(df['Sales'] , df['Store'])\n",
    "\n",
    "# Print the Summary of the Post-HOC Test :\n",
    "print(results )"
   ]
  },
  {
   "cell_type": "markdown",
   "id": "529f6932-3782-4020-b366-3f159cdcc2a1",
   "metadata": {},
   "source": [
    "# Interpretation of Post-Hoc Test Results:-\n",
    "\n",
    "* The tukey_results object provides a summary table that includes the differences between group means, confidence intervals,   and whether each comparison is statistically significant.\n",
    "\n",
    "* Look at the output to determine which specific pairs of stores have significantly different average daily sales."
   ]
  },
  {
   "cell_type": "code",
   "execution_count": null,
   "id": "945db366-7562-4240-8d73-f992e1bf5f56",
   "metadata": {},
   "outputs": [],
   "source": []
  }
 ],
 "metadata": {
  "kernelspec": {
   "display_name": "Python 3 (ipykernel)",
   "language": "python",
   "name": "python3"
  },
  "language_info": {
   "codemirror_mode": {
    "name": "ipython",
    "version": 3
   },
   "file_extension": ".py",
   "mimetype": "text/x-python",
   "name": "python",
   "nbconvert_exporter": "python",
   "pygments_lexer": "ipython3",
   "version": "3.10.8"
  }
 },
 "nbformat": 4,
 "nbformat_minor": 5
}
